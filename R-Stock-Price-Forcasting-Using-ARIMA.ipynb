{
 "cells": [
  {
   "cell_type": "markdown",
   "metadata": {
    "toc": true
   },
   "source": [
    "<h1>Table of Contents<span class=\"tocSkip\"></span></h1>\n",
    "<div class=\"toc\"><ul class=\"toc-item\"><li><span><a href=\"#Introduction\" data-toc-modified-id=\"Introduction-1\"><span class=\"toc-item-num\">1&nbsp;&nbsp;</span>Introduction</a></span></li><li><span><a href=\"#Loading-Data\" data-toc-modified-id=\"Loading-Data-2\"><span class=\"toc-item-num\">2&nbsp;&nbsp;</span>Loading Data</a></span></li><li><span><a href=\"#Exploring-Data\" data-toc-modified-id=\"Exploring-Data-3\"><span class=\"toc-item-num\">3&nbsp;&nbsp;</span>Exploring Data</a></span><ul class=\"toc-item\"><li><span><a href=\"#Autocorrelation-Function-(acf)\" data-toc-modified-id=\"Autocorrelation-Function-(acf)-3.1\"><span class=\"toc-item-num\">3.1&nbsp;&nbsp;</span>Autocorrelation Function (acf)</a></span></li><li><span><a href=\"#Partial-Autocorrelation-Function-(pacf)\" data-toc-modified-id=\"Partial-Autocorrelation-Function-(pacf)-3.2\"><span class=\"toc-item-num\">3.2&nbsp;&nbsp;</span>Partial Autocorrelation Function (pacf)</a></span></li><li><span><a href=\"#Dickey-Fuller-Test\" data-toc-modified-id=\"Dickey-Fuller-Test-3.3\"><span class=\"toc-item-num\">3.3&nbsp;&nbsp;</span>Dickey-Fuller Test</a></span></li></ul></li><li><span><a href=\"#Creating-Time-Series\" data-toc-modified-id=\"Creating-Time-Series-4\"><span class=\"toc-item-num\">4&nbsp;&nbsp;</span>Creating Time Series</a></span></li><li><span><a href=\"#Forcasting-Stock-Price\" data-toc-modified-id=\"Forcasting-Stock-Price-5\"><span class=\"toc-item-num\">5&nbsp;&nbsp;</span>Forcasting Stock Price</a></span></li><li><span><a href=\"#Evaluating-Model\" data-toc-modified-id=\"Evaluating-Model-6\"><span class=\"toc-item-num\">6&nbsp;&nbsp;</span>Evaluating Model</a></span></li><li><span><a href=\"#Ljung-Box-Test\" data-toc-modified-id=\"Ljung-Box-Test-7\"><span class=\"toc-item-num\">7&nbsp;&nbsp;</span>Ljung-Box Test</a></span></li><li><span><a href=\"#Conclusion\" data-toc-modified-id=\"Conclusion-8\"><span class=\"toc-item-num\">8&nbsp;&nbsp;</span>Conclusion</a></span></li></ul></div>"
   ]
  },
  {
   "cell_type": "markdown",
   "metadata": {},
   "source": [
    "# ARIMA Modelling: Stock Price Forecasting"
   ]
  },
  {
   "cell_type": "markdown",
   "metadata": {},
   "source": [
    "## Introduction\n",
    "- ARIMA (Autoregressive Integrated Moving Average) is a major tool used in time series analysis to attempt to forecast future values of a variable based on its present value. \n",
    "- In this project, dataset for stock price time series of Johnson & Johnson (JNJ) from 2006-2016 is used, and using ARIMA model price forecasting is conducted on this time series."
   ]
  },
  {
   "cell_type": "markdown",
   "metadata": {},
   "source": [
    "## Loading Data"
   ]
  },
  {
   "cell_type": "code",
   "execution_count": 1,
   "metadata": {},
   "outputs": [],
   "source": [
    "#Load libraries\n",
    "library(MASS)\n",
    "library(tseries)\n",
    "library(forecast)\n",
    "\n",
    "# Load Data\n",
    "mydata<- read.csv(\"jnj.csv\")\n",
    "attach(mydata)"
   ]
  },
  {
   "cell_type": "code",
   "execution_count": 2,
   "metadata": {},
   "outputs": [
    {
     "data": {
      "text/html": [
       "<table>\n",
       "<thead><tr><th scope=col>Date</th><th scope=col>Adjusted.Close.Price</th><th scope=col>lnstock</th><th scope=col>lnstockdiff</th></tr></thead>\n",
       "<tbody>\n",
       "\t<tr><td>04/10/2006  </td><td>49.60875    </td><td>3.904167    </td><td> 0.000000000</td></tr>\n",
       "\t<tr><td>01/11/2006  </td><td>48.78605    </td><td>3.887444    </td><td>-0.016722676</td></tr>\n",
       "\t<tr><td>01/12/2006  </td><td>48.86747    </td><td>3.889112    </td><td> 0.001667467</td></tr>\n",
       "\t<tr><td>03/01/2007  </td><td>49.44482    </td><td>3.900857    </td><td> 0.011745441</td></tr>\n",
       "\t<tr><td>01/02/2007  </td><td>46.85150    </td><td>3.846983    </td><td>-0.053874399</td></tr>\n",
       "\t<tr><td>01/03/2007  </td><td>44.86367    </td><td>3.803628    </td><td>-0.043354558</td></tr>\n",
       "</tbody>\n",
       "</table>\n"
      ],
      "text/latex": [
       "\\begin{tabular}{r|llll}\n",
       " Date & Adjusted.Close.Price & lnstock & lnstockdiff\\\\\n",
       "\\hline\n",
       "\t 04/10/2006   & 49.60875     & 3.904167     &  0.000000000\\\\\n",
       "\t 01/11/2006   & 48.78605     & 3.887444     & -0.016722676\\\\\n",
       "\t 01/12/2006   & 48.86747     & 3.889112     &  0.001667467\\\\\n",
       "\t 03/01/2007   & 49.44482     & 3.900857     &  0.011745441\\\\\n",
       "\t 01/02/2007   & 46.85150     & 3.846983     & -0.053874399\\\\\n",
       "\t 01/03/2007   & 44.86367     & 3.803628     & -0.043354558\\\\\n",
       "\\end{tabular}\n"
      ],
      "text/markdown": [
       "\n",
       "Date | Adjusted.Close.Price | lnstock | lnstockdiff | \n",
       "|---|---|---|---|---|---|\n",
       "| 04/10/2006   | 49.60875     | 3.904167     |  0.000000000 | \n",
       "| 01/11/2006   | 48.78605     | 3.887444     | -0.016722676 | \n",
       "| 01/12/2006   | 48.86747     | 3.889112     |  0.001667467 | \n",
       "| 03/01/2007   | 49.44482     | 3.900857     |  0.011745441 | \n",
       "| 01/02/2007   | 46.85150     | 3.846983     | -0.053874399 | \n",
       "| 01/03/2007   | 44.86367     | 3.803628     | -0.043354558 | \n",
       "\n",
       "\n"
      ],
      "text/plain": [
       "  Date       Adjusted.Close.Price lnstock  lnstockdiff \n",
       "1 04/10/2006 49.60875             3.904167  0.000000000\n",
       "2 01/11/2006 48.78605             3.887444 -0.016722676\n",
       "3 01/12/2006 48.86747             3.889112  0.001667467\n",
       "4 03/01/2007 49.44482             3.900857  0.011745441\n",
       "5 01/02/2007 46.85150             3.846983 -0.053874399\n",
       "6 01/03/2007 44.86367             3.803628 -0.043354558"
      ]
     },
     "metadata": {},
     "output_type": "display_data"
    }
   ],
   "source": [
    "head(mydata)"
   ]
  },
  {
   "cell_type": "markdown",
   "metadata": {},
   "source": [
    "## Exploring Data"
   ]
  },
  {
   "cell_type": "markdown",
   "metadata": {},
   "source": [
    "- The purpose of ARIMA is to determine the nature of the relationship between our residuals, which would provide our model with a certain degree of forecasting power.\n",
    "- In the first instance, in order to conduct a time series analysis it is must express our dataset in terms of logarithms.\n",
    "- If the data is expressed solely in price terms, then this does not allow for continuous compounding of returns over time and will give misleading results."
   ]
  },
  {
   "cell_type": "code",
   "execution_count": 11,
   "metadata": {},
   "outputs": [
    {
     "data": {
      "image/png": "[encoded data removed]",
      "text/plain": [
       "plot without title"
      ]
     },
     "metadata": {},
     "output_type": "display_data"
    }
   ],
   "source": [
    "#Plot and convert to ln format\n",
    "lnstock=log(Adjusted.Close.Price[1:95]) # around 80% of data into for training model\n",
    "plot(lnstock, type = 'o',cex = .5, col = \"red\")"
   ]
  },
  {
   "cell_type": "markdown",
   "metadata": {},
   "source": [
    "- Additionally, by using the acf and pacf (Autocorrelation and Partial Autocorrelation) functions in R, we can determine the nature of potential seasonal lags in our model.\n",
    "- The autocorrelation and partial autocorrelation function both measure, to varying degrees, the correlation coeficient between a series and lags of the variable over time.\n",
    "- An autoregressive process is when a time series follows a particular pattern in that its present value is in some way correlated to its past value(s).\n",
    "- For instance, if we are able to use regression analysis to find out the present value of a variable from using its past value, then we refer to this as an AR(1) process: X<sub>t</sub> = β<sub>0</sub> + β<sub>1</sub>*X<sub>(t-1)</sub> + e<sub>t</sub>\n",
    "- An AR(1) process is characterised by a slow drop in ACF followed by a sudden cutof in PACF:"
   ]
  },
  {
   "cell_type": "markdown",
   "metadata": {},
   "source": [
    "### Autocorrelation Function (acf)"
   ]
  },
  {
   "cell_type": "code",
   "execution_count": 16,
   "metadata": {
    "scrolled": false
   },
   "outputs": [
    {
     "data": {
      "image/png": "[encoded data removed]",
      "text/plain": [
       "Plot with title \"Series  lnstock\""
      ]
     },
     "metadata": {},
     "output_type": "display_data"
    }
   ],
   "source": [
    "acf(lnstock, lag.max=20)"
   ]
  },
  {
   "cell_type": "markdown",
   "metadata": {},
   "source": [
    "### Partial Autocorrelation Function (pacf)"
   ]
  },
  {
   "cell_type": "code",
   "execution_count": 14,
   "metadata": {},
   "outputs": [
    {
     "data": {
      "image/png": "[encoded data removed]",
      "text/plain": [
       "Plot with title \"Series  lnstock\""
      ]
     },
     "metadata": {},
     "output_type": "display_data"
    }
   ],
   "source": [
    "pacf(lnstock, lag.max=20)"
   ]
  },
  {
   "cell_type": "markdown",
   "metadata": {},
   "source": [
    "### Dickey-Fuller Test\n",
    "In order to use an ARIMA model, we first wish to test if our time series is stationary; i.e. do we have a constant mean, variance and autocorrelation across our time series dataset. For this purpose, we use the Dickey-Fuller Test. At the 5% level of significance:\n",
    "- H0: Non-stationary series\n",
    "- HA: Stationary series"
   ]
  },
  {
   "cell_type": "code",
   "execution_count": 45,
   "metadata": {},
   "outputs": [
    {
     "data": {
      "text/plain": [
       "\n",
       "\tAugmented Dickey-Fuller Test\n",
       "\n",
       "data:  lnstock\n",
       "Dickey-Fuller = -1.2562, Lag order = 4, p-value = 0.8836\n",
       "alternative hypothesis: stationary\n"
      ]
     },
     "metadata": {},
     "output_type": "display_data"
    },
    {
     "name": "stdout",
     "output_type": "stream",
     "text": [
      "With a p-value of 0.8835804 can accept data as stationary"
     ]
    }
   ],
   "source": [
    "adf_test<-adf.test(lnstock)\n",
    "adf_test\n",
    "cat(\"With a p-value of\", as.numeric(adf_test[4]), \"can accept data as\", as.character(adf_test[3]))"
   ]
  },
  {
   "cell_type": "markdown",
   "metadata": {},
   "source": [
    "## Creating Time Series\n",
    "- To generate an ARIMA plot and output by letting R itself decide the appropriate parameters using ARIMA, we use the auto.arima function as follows:"
   ]
  },
  {
   "cell_type": "code",
   "execution_count": 47,
   "metadata": {},
   "outputs": [
    {
     "data": {
      "text/plain": [
       "Series: pricearima \n",
       "ARIMA(0,1,0) with drift \n",
       "\n",
       "Coefficients:\n",
       "       drift\n",
       "      0.0072\n",
       "s.e.  0.0044\n",
       "\n",
       "sigma^2 estimated as 0.001835:  log likelihood=163.25\n",
       "AIC=-322.5   AICc=-322.37   BIC=-317.41"
      ]
     },
     "metadata": {},
     "output_type": "display_data"
    },
    {
     "data": {
      "image/png": "[encoded data removed]",
      "text/plain": [
       "Plot with title \"JNJ Price\""
      ]
     },
     "metadata": {},
     "output_type": "display_data"
    }
   ],
   "source": [
    "#Time series and auto.arima\n",
    "pricearima <- ts(lnstock, start = c(2006,09), frequency = 12)\n",
    "fitlnstock<-auto.arima(pricearima)\n",
    "fitlnstock\n",
    "plot(pricearima,type='l')\n",
    "title('JNJ Price')\n",
    "#exp(lnstock)"
   ]
  },
  {
   "cell_type": "markdown",
   "metadata": {},
   "source": [
    "## Forcasting Stock Price"
   ]
  },
  {
   "cell_type": "code",
   "execution_count": 22,
   "metadata": {
    "scrolled": false
   },
   "outputs": [
    {
     "data": {
      "text/plain": [
       "         Point Forecast    Lo 80    Hi 80    Lo 95    Hi 95\n",
       "Aug 2014       4.592353 4.537449 4.647257 4.508384 4.676321\n",
       "Sep 2014       4.599597 4.521951 4.677243 4.480847 4.718346\n",
       "Oct 2014       4.606841 4.511744 4.701937 4.461403 4.752279\n",
       "Nov 2014       4.614085 4.504277 4.723893 4.446148 4.782022\n",
       "Dec 2014       4.621329 4.498560 4.744098 4.433570 4.809088\n",
       "Jan 2015       4.628573 4.494086 4.763060 4.422893 4.834253\n",
       "Feb 2015       4.635817 4.490554 4.781080 4.413657 4.857977\n",
       "Mar 2015       4.643061 4.487769 4.798353 4.405562 4.880560\n",
       "Apr 2015       4.650305 4.485593 4.815017 4.398400 4.902211\n",
       "May 2015       4.657549 4.483927 4.831171 4.392017 4.923081\n",
       "Jun 2015       4.664793 4.482697 4.846889 4.386301 4.943285\n",
       "Jul 2015       4.672037 4.481844 4.862231 4.381162 4.962913\n",
       "Aug 2015       4.679281 4.481322 4.877241 4.376528 4.982034\n",
       "Sep 2015       4.686525 4.481093 4.891958 4.372344 5.000707\n",
       "Oct 2015       4.693769 4.481127 4.906412 4.368561 5.018978\n",
       "Nov 2015       4.701014 4.481397 4.920630 4.365139 5.036888\n",
       "Dec 2015       4.708258 4.481882 4.934633 4.362046 5.054469\n",
       "Jan 2016       4.715502 4.482563 4.948440 4.359253 5.071750\n",
       "Feb 2016       4.722746 4.483424 4.962067 4.356735 5.088756\n",
       "Mar 2016       4.729990 4.484451 4.975528 4.354471 5.105509\n",
       "Apr 2016       4.737234 4.485632 4.988836 4.352442 5.122026\n",
       "May 2016       4.744478 4.486955 5.002001 4.350631 5.138325\n",
       "Jun 2016       4.751722 4.488411 5.015033 4.349023 5.154421\n",
       "Jul 2016       4.758966 4.489992 5.027940 4.347606 5.170326\n",
       "Aug 2016       4.766210 4.491690 5.040730 4.346367 5.186053\n",
       "Sep 2016       4.773454 4.493497 5.053411 4.345297 5.201611"
      ]
     },
     "metadata": {},
     "output_type": "display_data"
    },
    {
     "data": {
      "text/html": [
       "<ol class=list-inline>\n",
       "\t<li>98.726427821574</li>\n",
       "\t<li>99.4442044711451</li>\n",
       "\t<li>100.167199615197</li>\n",
       "\t<li>100.895451194061</li>\n",
       "\t<li>101.628997423911</li>\n",
       "\t<li>102.367876798763</li>\n",
       "\t<li>103.112128092501</li>\n",
       "\t<li>103.861790360907</li>\n",
       "\t<li>104.616902943715</li>\n",
       "\t<li>105.37750546667</li>\n",
       "\t<li>106.143637843613</li>\n",
       "\t<li>106.915340278571</li>\n",
       "\t<li>107.692653267871</li>\n",
       "\t<li>108.475617602261</li>\n",
       "\t<li>109.264274369054</li>\n",
       "\t<li>110.058664954279</li>\n",
       "\t<li>110.858831044862</li>\n",
       "\t<li>111.664814630802</li>\n",
       "\t<li>112.476658007386</li>\n",
       "\t<li>113.294403777398</li>\n",
       "\t<li>114.118094853362</li>\n",
       "\t<li>114.947774459793</li>\n",
       "\t<li>115.78348613546</li>\n",
       "\t<li>116.625273735677</li>\n",
       "\t<li>117.473181434603</li>\n",
       "\t<li>118.327253727555</li>\n",
       "</ol>\n"
      ],
      "text/latex": [
       "\\begin{enumerate*}\n",
       "\\item 98.726427821574\n",
       "\\item 99.4442044711451\n",
       "\\item 100.167199615197\n",
       "\\item 100.895451194061\n",
       "\\item 101.628997423911\n",
       "\\item 102.367876798763\n",
       "\\item 103.112128092501\n",
       "\\item 103.861790360907\n",
       "\\item 104.616902943715\n",
       "\\item 105.37750546667\n",
       "\\item 106.143637843613\n",
       "\\item 106.915340278571\n",
       "\\item 107.692653267871\n",
       "\\item 108.475617602261\n",
       "\\item 109.264274369054\n",
       "\\item 110.058664954279\n",
       "\\item 110.858831044862\n",
       "\\item 111.664814630802\n",
       "\\item 112.476658007386\n",
       "\\item 113.294403777398\n",
       "\\item 114.118094853362\n",
       "\\item 114.947774459793\n",
       "\\item 115.78348613546\n",
       "\\item 116.625273735677\n",
       "\\item 117.473181434603\n",
       "\\item 118.327253727555\n",
       "\\end{enumerate*}\n"
      ],
      "text/markdown": [
       "1. 98.726427821574\n",
       "2. 99.4442044711451\n",
       "3. 100.167199615197\n",
       "4. 100.895451194061\n",
       "5. 101.628997423911\n",
       "6. 102.367876798763\n",
       "7. 103.112128092501\n",
       "8. 103.861790360907\n",
       "9. 104.616902943715\n",
       "10. 105.37750546667\n",
       "11. 106.143637843613\n",
       "12. 106.915340278571\n",
       "13. 107.692653267871\n",
       "14. 108.475617602261\n",
       "15. 109.264274369054\n",
       "16. 110.058664954279\n",
       "17. 110.858831044862\n",
       "18. 111.664814630802\n",
       "19. 112.476658007386\n",
       "20. 113.294403777398\n",
       "21. 114.118094853362\n",
       "22. 114.947774459793\n",
       "23. 115.78348613546\n",
       "24. 116.625273735677\n",
       "25. 117.473181434603\n",
       "26. 118.327253727555\n",
       "\n",
       "\n"
      ],
      "text/plain": [
       " [1]  98.72643  99.44420 100.16720 100.89545 101.62900 102.36788 103.11213\n",
       " [8] 103.86179 104.61690 105.37751 106.14364 106.91534 107.69265 108.47562\n",
       "[15] 109.26427 110.05866 110.85883 111.66481 112.47666 113.29440 114.11809\n",
       "[22] 114.94777 115.78349 116.62527 117.47318 118.32725"
      ]
     },
     "metadata": {},
     "output_type": "display_data"
    },
    {
     "data": {
      "image/png": "[encoded data removed]",
      "text/plain": [
       "Plot with title \"Forecasts from ARIMA(0,1,0) with drift\""
      ]
     },
     "metadata": {},
     "output_type": "display_data"
    }
   ],
   "source": [
    "#Forecasted Values From ARIMA\n",
    "forecastedvalues_ln=forecast(fitlnstock,h=26)\n",
    "forecastedvalues_ln\n",
    "plot(forecastedvalues_ln)\n",
    "\n",
    "# Shows test data timeseries in RED color on plot\n",
    "lnstock_test=log(Adjusted.Close.Price[96:121])\n",
    "pricearima_test <- ts(lnstock_test, start = c(2014,09), frequency = 12)\n",
    "lines(pricearima_test, col = 'red')\n",
    "\n",
    "#we can also obtain the exponents of the ln forecasts in order to obtain real price\n",
    "forecastedvaluesextracted=as.numeric(forecastedvalues_ln$mean)\n",
    "finalforecastvalues=exp(forecastedvaluesextracted)\n",
    "finalforecastvalues"
   ]
  },
  {
   "cell_type": "markdown",
   "metadata": {},
   "source": [
    "## Evaluating Model"
   ]
  },
  {
   "cell_type": "code",
   "execution_count": 23,
   "metadata": {},
   "outputs": [
    {
     "data": {
      "text/html": [
       "<table>\n",
       "<thead><tr><th scope=col>Actual Price</th><th scope=col>Forecasted Price</th><th scope=col>Percentage Error</th></tr></thead>\n",
       "<tbody>\n",
       "\t<tr><td>100.71622   </td><td> 98.72643   </td><td> 0.019756471</td></tr>\n",
       "\t<tr><td>101.84065   </td><td> 99.44420   </td><td> 0.023531345</td></tr>\n",
       "\t<tr><td>102.95091   </td><td>100.16720   </td><td> 0.027039220</td></tr>\n",
       "\t<tr><td> 99.45106   </td><td>100.89545   </td><td>-0.014523669</td></tr>\n",
       "\t<tr><td> 95.23792   </td><td>101.62900   </td><td>-0.067106492</td></tr>\n",
       "\t<tr><td> 98.17435   </td><td>102.36788   </td><td>-0.042715128</td></tr>\n",
       "\t<tr><td> 96.34512   </td><td>103.11213   </td><td>-0.070237132</td></tr>\n",
       "\t<tr><td> 95.00433   </td><td>103.86179   </td><td>-0.093232141</td></tr>\n",
       "\t<tr><td> 96.60394   </td><td>104.61690   </td><td>-0.082946600</td></tr>\n",
       "\t<tr><td> 94.01857   </td><td>105.37751   </td><td>-0.120815871</td></tr>\n",
       "\t<tr><td> 96.67146   </td><td>106.14364   </td><td>-0.097983154</td></tr>\n",
       "\t<tr><td> 91.35501   </td><td>106.91534   </td><td>-0.170328142</td></tr>\n",
       "\t<tr><td> 90.74260   </td><td>107.69265   </td><td>-0.186792691</td></tr>\n",
       "\t<tr><td> 98.20809   </td><td>108.47562   </td><td>-0.104548672</td></tr>\n",
       "\t<tr><td> 99.13769   </td><td>109.26427   </td><td>-0.102146609</td></tr>\n",
       "\t<tr><td>100.58697   </td><td>110.05866   </td><td>-0.094164266</td></tr>\n",
       "\t<tr><td>102.27125   </td><td>110.85883   </td><td>-0.083968693</td></tr>\n",
       "\t<tr><td>103.77189   </td><td>111.66481   </td><td>-0.076060345</td></tr>\n",
       "\t<tr><td>106.72102   </td><td>112.47666   </td><td>-0.053931664</td></tr>\n",
       "\t<tr><td>110.54799   </td><td>113.29440   </td><td>-0.024843643</td></tr>\n",
       "\t<tr><td>111.94321   </td><td>114.11809   </td><td>-0.019428430</td></tr>\n",
       "\t<tr><td>120.49616   </td><td>114.94777   </td><td> 0.046046176</td></tr>\n",
       "\t<tr><td>124.40012   </td><td>115.78349   </td><td> 0.069265449</td></tr>\n",
       "\t<tr><td>119.34000   </td><td>116.62527   </td><td> 0.022747799</td></tr>\n",
       "\t<tr><td>118.13000   </td><td>117.47318   </td><td> 0.005560108</td></tr>\n",
       "\t<tr><td>118.81000   </td><td>118.32725   </td><td> 0.004063162</td></tr>\n",
       "</tbody>\n",
       "</table>\n"
      ],
      "text/latex": [
       "\\begin{tabular}{r|lll}\n",
       " Actual Price & Forecasted Price & Percentage Error\\\\\n",
       "\\hline\n",
       "\t 100.71622    &  98.72643    &  0.019756471\\\\\n",
       "\t 101.84065    &  99.44420    &  0.023531345\\\\\n",
       "\t 102.95091    & 100.16720    &  0.027039220\\\\\n",
       "\t  99.45106    & 100.89545    & -0.014523669\\\\\n",
       "\t  95.23792    & 101.62900    & -0.067106492\\\\\n",
       "\t  98.17435    & 102.36788    & -0.042715128\\\\\n",
       "\t  96.34512    & 103.11213    & -0.070237132\\\\\n",
       "\t  95.00433    & 103.86179    & -0.093232141\\\\\n",
       "\t  96.60394    & 104.61690    & -0.082946600\\\\\n",
       "\t  94.01857    & 105.37751    & -0.120815871\\\\\n",
       "\t  96.67146    & 106.14364    & -0.097983154\\\\\n",
       "\t  91.35501    & 106.91534    & -0.170328142\\\\\n",
       "\t  90.74260    & 107.69265    & -0.186792691\\\\\n",
       "\t  98.20809    & 108.47562    & -0.104548672\\\\\n",
       "\t  99.13769    & 109.26427    & -0.102146609\\\\\n",
       "\t 100.58697    & 110.05866    & -0.094164266\\\\\n",
       "\t 102.27125    & 110.85883    & -0.083968693\\\\\n",
       "\t 103.77189    & 111.66481    & -0.076060345\\\\\n",
       "\t 106.72102    & 112.47666    & -0.053931664\\\\\n",
       "\t 110.54799    & 113.29440    & -0.024843643\\\\\n",
       "\t 111.94321    & 114.11809    & -0.019428430\\\\\n",
       "\t 120.49616    & 114.94777    &  0.046046176\\\\\n",
       "\t 124.40012    & 115.78349    &  0.069265449\\\\\n",
       "\t 119.34000    & 116.62527    &  0.022747799\\\\\n",
       "\t 118.13000    & 117.47318    &  0.005560108\\\\\n",
       "\t 118.81000    & 118.32725    &  0.004063162\\\\\n",
       "\\end{tabular}\n"
      ],
      "text/markdown": [
       "\n",
       "Actual Price | Forecasted Price | Percentage Error | \n",
       "|---|---|---|---|---|---|---|---|---|---|---|---|---|---|---|---|---|---|---|---|---|---|---|---|---|---|\n",
       "| 100.71622    |  98.72643    |  0.019756471 | \n",
       "| 101.84065    |  99.44420    |  0.023531345 | \n",
       "| 102.95091    | 100.16720    |  0.027039220 | \n",
       "|  99.45106    | 100.89545    | -0.014523669 | \n",
       "|  95.23792    | 101.62900    | -0.067106492 | \n",
       "|  98.17435    | 102.36788    | -0.042715128 | \n",
       "|  96.34512    | 103.11213    | -0.070237132 | \n",
       "|  95.00433    | 103.86179    | -0.093232141 | \n",
       "|  96.60394    | 104.61690    | -0.082946600 | \n",
       "|  94.01857    | 105.37751    | -0.120815871 | \n",
       "|  96.67146    | 106.14364    | -0.097983154 | \n",
       "|  91.35501    | 106.91534    | -0.170328142 | \n",
       "|  90.74260    | 107.69265    | -0.186792691 | \n",
       "|  98.20809    | 108.47562    | -0.104548672 | \n",
       "|  99.13769    | 109.26427    | -0.102146609 | \n",
       "| 100.58697    | 110.05866    | -0.094164266 | \n",
       "| 102.27125    | 110.85883    | -0.083968693 | \n",
       "| 103.77189    | 111.66481    | -0.076060345 | \n",
       "| 106.72102    | 112.47666    | -0.053931664 | \n",
       "| 110.54799    | 113.29440    | -0.024843643 | \n",
       "| 111.94321    | 114.11809    | -0.019428430 | \n",
       "| 120.49616    | 114.94777    |  0.046046176 | \n",
       "| 124.40012    | 115.78349    |  0.069265449 | \n",
       "| 119.34000    | 116.62527    |  0.022747799 | \n",
       "| 118.13000    | 117.47318    |  0.005560108 | \n",
       "| 118.81000    | 118.32725    |  0.004063162 | \n",
       "\n",
       "\n"
      ],
      "text/plain": [
       "   Actual Price Forecasted Price Percentage Error\n",
       "1  100.71622     98.72643         0.019756471    \n",
       "2  101.84065     99.44420         0.023531345    \n",
       "3  102.95091    100.16720         0.027039220    \n",
       "4   99.45106    100.89545        -0.014523669    \n",
       "5   95.23792    101.62900        -0.067106492    \n",
       "6   98.17435    102.36788        -0.042715128    \n",
       "7   96.34512    103.11213        -0.070237132    \n",
       "8   95.00433    103.86179        -0.093232141    \n",
       "9   96.60394    104.61690        -0.082946600    \n",
       "10  94.01857    105.37751        -0.120815871    \n",
       "11  96.67146    106.14364        -0.097983154    \n",
       "12  91.35501    106.91534        -0.170328142    \n",
       "13  90.74260    107.69265        -0.186792691    \n",
       "14  98.20809    108.47562        -0.104548672    \n",
       "15  99.13769    109.26427        -0.102146609    \n",
       "16 100.58697    110.05866        -0.094164266    \n",
       "17 102.27125    110.85883        -0.083968693    \n",
       "18 103.77189    111.66481        -0.076060345    \n",
       "19 106.72102    112.47666        -0.053931664    \n",
       "20 110.54799    113.29440        -0.024843643    \n",
       "21 111.94321    114.11809        -0.019428430    \n",
       "22 120.49616    114.94777         0.046046176    \n",
       "23 124.40012    115.78349         0.069265449    \n",
       "24 119.34000    116.62527         0.022747799    \n",
       "25 118.13000    117.47318         0.005560108    \n",
       "26 118.81000    118.32725         0.004063162    "
      ]
     },
     "metadata": {},
     "output_type": "display_data"
    },
    {
     "name": "stdout",
     "output_type": "stream",
     "text": [
      "Mean Percentage Error =  -0.04952937"
     ]
    }
   ],
   "source": [
    "#Percentage Error\n",
    "df<-data.frame(Adjusted.Close.Price[96:121],finalforecastvalues,0) # remaining data for testing\n",
    "col_headings<-c(\"Actual Price\",\"Forecasted Price\",\"Percentage Error\")\n",
    "names(df)<-col_headings\n",
    "attach(df)\n",
    "percentage_error=((df$`Actual Price`-df$`Forecasted Price`)/(df$`Actual Price`))\n",
    "df$`Percentage Error`<-percentage_error\n",
    "df\n",
    "cat(\"Mean Percentage Error = \", mean(percentage_error))"
   ]
  },
  {
   "cell_type": "markdown",
   "metadata": {},
   "source": [
    "## Ljung-Box Test\n",
    "<p>While we could potentially use this model to forecast future values for price, an important test used to validate the indings of the ARIMA model is the Ljung-Box test. Essentially, the test is being used to determine if the residuals of our time series follow a random pattern, or if there is a significant degree of non-randomness.\n",
    "- H0: Residuals follow a random pattern\n",
    "- HA: Residuals do not follow a random pattern"
   ]
  },
  {
   "cell_type": "code",
   "execution_count": 49,
   "metadata": {},
   "outputs": [
    {
     "data": {
      "text/plain": [
       "\n",
       "\tBox-Ljung test\n",
       "\n",
       "data:  fitlnstock$resid\n",
       "X-squared = 9.0445, df = 5, p-value = 0.1073\n"
      ]
     },
     "metadata": {},
     "output_type": "display_data"
    },
    {
     "data": {
      "text/plain": [
       "\n",
       "\tBox-Ljung test\n",
       "\n",
       "data:  fitlnstock$resid\n",
       "X-squared = 12.835, df = 10, p-value = 0.2331\n"
      ]
     },
     "metadata": {},
     "output_type": "display_data"
    },
    {
     "data": {
      "text/plain": [
       "\n",
       "\tBox-Ljung test\n",
       "\n",
       "data:  fitlnstock$resid\n",
       "X-squared = 15.156, df = 15, p-value = 0.4403\n"
      ]
     },
     "metadata": {},
     "output_type": "display_data"
    }
   ],
   "source": [
    "#Ljung-Box\n",
    "Box.test(fitlnstock$resid, lag=5, type=\"Ljung-Box\")\n",
    "Box.test(fitlnstock$resid, lag=10, type=\"Ljung-Box\")\n",
    "Box.test(fitlnstock$resid, lag=15, type=\"Ljung-Box\")"
   ]
  },
  {
   "cell_type": "markdown",
   "metadata": {},
   "source": [
    "## Conclusion"
   ]
  },
  {
   "cell_type": "markdown",
   "metadata": {},
   "source": [
    "- From the above Ljung-Box Test, we see that we have an insignificant p-value.\n",
    "- This means that there is likely a high degree of randomness exhibited by residuals and therefore our ARIMA model is free of autocorrelation.\n",
    "- This model can be used for prediction of stock prices of near future."
   ]
  }
 ],
 "metadata": {
  "kernelspec": {
   "display_name": "R",
   "language": "R",
   "name": "ir"
  },
  "language_info": {
   "codemirror_mode": "r",
   "file_extension": ".r",
   "mimetype": "text/x-r-source",
   "name": "R",
   "pygments_lexer": "r",
   "version": "3.5.1"
  },
  "toc": {
   "base_numbering": 1,
   "nav_menu": {},
   "number_sections": true,
   "sideBar": true,
   "skip_h1_title": true,
   "title_cell": "Table of Contents",
   "title_sidebar": "Contents",
   "toc_cell": true,
   "toc_position": {},
   "toc_section_display": true,
   "toc_window_display": false
  },
  "varInspector": {
   "cols": {
    "lenName": 16,
    "lenType": 16,
    "lenVar": 40
   },
   "kernels_config": {
    "python": {
     "delete_cmd_postfix": "",
     "delete_cmd_prefix": "del ",
     "library": "var_list.py",
     "varRefreshCmd": "print(var_dic_list())"
    },
    "r": {
     "delete_cmd_postfix": ") ",
     "delete_cmd_prefix": "rm(",
     "library": "var_list.r",
     "varRefreshCmd": "cat(var_dic_list()) "
    }
   },
   "position": {
    "height": "430px",
    "left": "871px",
    "right": "20px",
    "top": "114px",
    "width": "495px"
   },
   "types_to_exclude": [
    "module",
    "function",
    "builtin_function_or_method",
    "instance",
    "_Feature"
   ],
   "window_display": false
  }
 },
 "nbformat": 4,
 "nbformat_minor": 2
}
